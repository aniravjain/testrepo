{
 "cells": [
  {
   "cell_type": "code",
   "execution_count": 1,
   "metadata": {},
   "outputs": [],
   "source": [
    "import numpy as np"
   ]
  },
  {
   "cell_type": "code",
   "execution_count": 2,
   "metadata": {},
   "outputs": [],
   "source": [
    "t1a=np.zeros(72)\n",
    "t1b=np.ones(76)\n",
    "t1c=np.zeros(52)\n",
    "t1=np.concatenate((t1a,t1b,t1c))\n"
   ]
  },
  {
   "cell_type": "code",
   "execution_count": 3,
   "metadata": {},
   "outputs": [],
   "source": [
    "t2a=np.zeros(57)\n",
    "t2b=np.ones(111)\n",
    "t2c=np.zeros(32)\n",
    "t2=np.concatenate((t2a,t2b,t2c))\n"
   ]
  },
  {
   "cell_type": "code",
   "execution_count": 4,
   "metadata": {},
   "outputs": [],
   "source": [
    "t3a=np.zeros(90)\n",
    "t3b=np.ones(110)\n",
    "t3=np.concatenate((t3a,t3b))\n"
   ]
  },
  {
   "cell_type": "code",
   "execution_count": 5,
   "metadata": {},
   "outputs": [],
   "source": [
    "t4a=np.zeros(30)\n",
    "t4b=np.ones(132)\n",
    "t4c=np.zeros(38)\n",
    "t4=np.concatenate((t4a,t4b,t4c))"
   ]
  },
  {
   "cell_type": "code",
   "execution_count": 6,
   "metadata": {},
   "outputs": [],
   "source": [
    "t5a=np.zeros(9)\n",
    "t5b=np.ones(73)\n",
    "t5c=np.zeros(21)\n",
    "t5d=np.zeros(97)\n",
    "t5=np.concatenate((t5a,t5b,t5c,t5d))"
   ]
  },
  {
   "cell_type": "code",
   "execution_count": 7,
   "metadata": {},
   "outputs": [],
   "source": [
    "t6=np.ones(200)"
   ]
  },
  {
   "cell_type": "code",
   "execution_count": 8,
   "metadata": {},
   "outputs": [],
   "source": [
    "t7a=np.ones(173)\n",
    "t7b=np.zeros(27)\n",
    "t7=np.concatenate((t7a,t7b))"
   ]
  },
  {
   "cell_type": "code",
   "execution_count": 9,
   "metadata": {},
   "outputs": [],
   "source": [
    "t8a=np.ones(83)\n",
    "t8b=np.zeros(117)\n",
    "t8=np.concatenate((t8a,t8b))"
   ]
  },
  {
   "cell_type": "code",
   "execution_count": 10,
   "metadata": {},
   "outputs": [],
   "source": [
    "t9a=np.ones(47)\n",
    "t9b=np.zeros(153)\n",
    "t9=np.concatenate((t9a,t9b))"
   ]
  },
  {
   "cell_type": "code",
   "execution_count": 11,
   "metadata": {},
   "outputs": [],
   "source": [
    "t10a=np.ones(110)\n",
    "t10b=np.zeros(90)\n",
    "t10=np.concatenate((t10a,t10b))"
   ]
  },
  {
   "cell_type": "code",
   "execution_count": 12,
   "metadata": {},
   "outputs": [],
   "source": [
    "t11a=np.zeros(122)\n",
    "t11b=np.ones(40)\n",
    "t11c=np.zeros(38)\n",
    "t11=np.concatenate((t11a,t11b,t11c))"
   ]
  },
  {
   "cell_type": "code",
   "execution_count": 13,
   "metadata": {},
   "outputs": [],
   "source": [
    "t12a=np.zeros(143)\n",
    "t12b=np.ones(57)\n",
    "t12=np.concatenate((t12a,t12b))"
   ]
  },
  {
   "cell_type": "code",
   "execution_count": 14,
   "metadata": {},
   "outputs": [],
   "source": [
    "t13a=np.ones(144)\n",
    "t13b=np.zeros(56)\n",
    "t13=np.concatenate((t13a,t13b))\n",
    "    "
   ]
  },
  {
   "cell_type": "code",
   "execution_count": 15,
   "metadata": {},
   "outputs": [],
   "source": [
    "t14=np.ones(200)"
   ]
  },
  {
   "cell_type": "code",
   "execution_count": 16,
   "metadata": {},
   "outputs": [],
   "source": [
    "t15a=np.zeros(139)\n",
    "t15b=np.ones(61)\n",
    "t15=np.concatenate((t15a,t15b))"
   ]
  },
  {
   "cell_type": "code",
   "execution_count": 17,
   "metadata": {},
   "outputs": [],
   "source": [
    "t16a=np.zeros(129)\n",
    "t16b=np.ones(71)\n",
    "t16=np.concatenate((t16a,t16b))"
   ]
  },
  {
   "cell_type": "code",
   "execution_count": 18,
   "metadata": {},
   "outputs": [],
   "source": [
    "t17a=np.zeros(55)\n",
    "t17b=np.ones(65)\n",
    "t17c=np.zeros(52)\n",
    "t17d=np.ones(18)\n",
    "t17e=np.zeros(10)\n",
    "t17=np.concatenate((t17a,t17b,t17c,t17d,t17e))"
   ]
  },
  {
   "cell_type": "code",
   "execution_count": 19,
   "metadata": {},
   "outputs": [],
   "source": [
    "t18a=np.zeros(54)\n",
    "t18b=np.ones(84)\n",
    "t18c=np.zeros(62)\n",
    "t18=np.concatenate((t18a,t18b,t18c))"
   ]
  },
  {
   "cell_type": "code",
   "execution_count": 20,
   "metadata": {},
   "outputs": [],
   "source": [
    "t19a=np.zeros(46)\n",
    "t19b=np.ones(130)\n",
    "t19c=np.zeros(24)\n",
    "t19=np.concatenate((t19a,t19b,t19c))"
   ]
  },
  {
   "cell_type": "code",
   "execution_count": 21,
   "metadata": {},
   "outputs": [],
   "source": [
    "t20a=np.zeros(40)\n",
    "t20b=np.ones(160)\n",
    "t20=np.concatenate((t20a,t20b))"
   ]
  },
  {
   "cell_type": "code",
   "execution_count": 22,
   "metadata": {},
   "outputs": [],
   "source": [
    "t21a=np.zeros(17)\n",
    "t21b=np.ones(89)\n",
    "t21c=np.zeros(94)\n",
    "t21=np.concatenate((t21a,t21b,t21c))"
   ]
  },
  {
   "cell_type": "code",
   "execution_count": 23,
   "metadata": {},
   "outputs": [],
   "source": [
    "t22a=np.zeros(7)\n",
    "t22b=np.ones(157)\n",
    "t22c=np.zeros(36)\n",
    "t22=np.concatenate((t22a,t22b,t22c))"
   ]
  },
  {
   "cell_type": "code",
   "execution_count": 24,
   "metadata": {},
   "outputs": [],
   "source": [
    "t23a=np.zeros(41)\n",
    "t23b=np.ones(130)\n",
    "t23c=np.zeros(29)\n",
    "t23=np.concatenate((t23a,t23b,t23c))"
   ]
  },
  {
   "cell_type": "code",
   "execution_count": 25,
   "metadata": {},
   "outputs": [],
   "source": [
    "t24a=np.zeros(38)\n",
    "t24b=np.ones(162)\n",
    "t24=np.concatenate((t24a,t24b))"
   ]
  },
  {
   "cell_type": "code",
   "execution_count": 26,
   "metadata": {},
   "outputs": [],
   "source": [
    "t25a=np.zeros(9)\n",
    "t25b=np.ones(112)\n",
    "t25c=np.zeros(79)\n",
    "t25=np.concatenate((t25a,t25b,t25c))"
   ]
  },
  {
   "cell_type": "code",
   "execution_count": 27,
   "metadata": {},
   "outputs": [],
   "source": [
    "t26a=np.zeros(114)\n",
    "t26b=np.ones(86)\n",
    "t26=np.concatenate((t26a,t26b))"
   ]
  },
  {
   "cell_type": "code",
   "execution_count": 28,
   "metadata": {},
   "outputs": [],
   "source": [
    "t27a=np.ones(10)\n",
    "t27b=np.zeros(36)\n",
    "t27c=np.ones(66)\n",
    "t27d=np.zeros(88)\n",
    "t27=np.concatenate((t27a,t27b,t27c,t27d))"
   ]
  },
  {
   "cell_type": "code",
   "execution_count": 29,
   "metadata": {},
   "outputs": [],
   "source": [
    "t28a=np.zeros(179)\n",
    "t28b=np.ones(21)\n",
    "t28=np.concatenate((t28a,t28b))"
   ]
  },
  {
   "cell_type": "code",
   "execution_count": 30,
   "metadata": {},
   "outputs": [],
   "source": [
    "t29a=np.ones(150)\n",
    "t29b=np.zeros(50)\n",
    "t29=np.concatenate((t29a,t29b))"
   ]
  },
  {
   "cell_type": "code",
   "execution_count": 31,
   "metadata": {},
   "outputs": [],
   "source": [
    "t30a=np.ones(51)\n",
    "t30b=np.zeros(13)\n",
    "t30c=np.ones(49)\n",
    "t30d=np.zeros(87)\n",
    "t30=np.concatenate((t30a,t30b,t30c,t30d))"
   ]
  },
  {
   "cell_type": "code",
   "execution_count": 32,
   "metadata": {},
   "outputs": [],
   "source": [
    "t31a=np.zeros(11)\n",
    "t31b=np.ones(153)\n",
    "t31c=np.zeros(36)\n",
    "t31=np.concatenate((t31a,t31b,t31c))"
   ]
  },
  {
   "cell_type": "code",
   "execution_count": 33,
   "metadata": {},
   "outputs": [],
   "source": [
    "t32a=np.zeros(18)\n",
    "t32b=np.ones(97)\n",
    "t32c=np.zeros(85)\n",
    "t32=np.concatenate((t32a,t32b,t32c))"
   ]
  },
  {
   "cell_type": "code",
   "execution_count": 34,
   "metadata": {},
   "outputs": [],
   "source": [
    "t33a=np.zeros(93)\n",
    "t33b=np.ones(107)\n",
    "t33=np.concatenate((t33a,t33b))"
   ]
  },
  {
   "cell_type": "code",
   "execution_count": 35,
   "metadata": {},
   "outputs": [],
   "source": [
    "t34a=np.zeros(16)\n",
    "t34b=np.ones(184)\n",
    "t34=np.concatenate((t34a,t34b))"
   ]
  },
  {
   "cell_type": "code",
   "execution_count": 36,
   "metadata": {},
   "outputs": [],
   "source": [
    "ytraintuple=(t1,t2,t3,t4,t5,t6,t7,t8,t9,t10,t11,t12,t13,t14,t15,t16,t17,t18,t19,t20,t21)\n",
    "tmix=np.concatenate(ytraintuple)\n",
    "ytraininit=np.zeros(6800)\n",
    "y_train=tmix\n",
    "#y_train=np.concatenate((ytraininit,tmix))\n",
    "y_test=np.concatenate((t22,t23,t24,t25,t26,t27,t28,t29,t30,t31,t32,t33,t34))"
   ]
  },
  {
   "cell_type": "code",
   "execution_count": 37,
   "metadata": {},
   "outputs": [],
   "source": [
    "y_train=y_train.astype('uint8')\n",
    "y_test=y_test.astype('uint8')"
   ]
  },
  {
   "cell_type": "code",
   "execution_count": 38,
   "metadata": {},
   "outputs": [
    {
     "name": "stdout",
     "output_type": "stream",
     "text": [
      "(4200,)\n",
      "(2600,)\n"
     ]
    }
   ],
   "source": [
    "print(y_train.shape)\n",
    "print(y_test.shape)"
   ]
  },
  {
   "cell_type": "code",
   "execution_count": 39,
   "metadata": {},
   "outputs": [
    {
     "name": "stdout",
     "output_type": "stream",
     "text": [
      "[0 0 0 ... 0 0 0]\n",
      "[0 0 0 ... 1 1 1]\n"
     ]
    }
   ],
   "source": [
    "print(y_train)\n",
    "print(y_test)"
   ]
  },
  {
   "cell_type": "code",
   "execution_count": 40,
   "metadata": {},
   "outputs": [
    {
     "data": {
      "text/plain": [
       "array([0, 0, 0, ..., 0, 0, 0], dtype=uint8)"
      ]
     },
     "execution_count": 40,
     "metadata": {},
     "output_type": "execute_result"
    }
   ],
   "source": [
    "y_train"
   ]
  },
  {
   "cell_type": "code",
   "execution_count": 42,
   "metadata": {},
   "outputs": [
    {
     "name": "stdout",
     "output_type": "stream",
     "text": [
      "Stored 'y_train' (ndarray)\n",
      "Stored 'y_test' (ndarray)\n"
     ]
    }
   ],
   "source": [
    "%store y_train\n",
    "%store y_test"
   ]
  },
  {
   "cell_type": "code",
   "execution_count": null,
   "metadata": {},
   "outputs": [],
   "source": []
  },
  {
   "cell_type": "code",
   "execution_count": null,
   "metadata": {},
   "outputs": [],
   "source": []
  }
 ],
 "metadata": {
  "kernelspec": {
   "display_name": "Python 3",
   "language": "python",
   "name": "python3"
  },
  "language_info": {
   "codemirror_mode": {
    "name": "ipython",
    "version": 3
   },
   "file_extension": ".py",
   "mimetype": "text/x-python",
   "name": "python",
   "nbconvert_exporter": "python",
   "pygments_lexer": "ipython3",
   "version": "3.7.7"
  }
 },
 "nbformat": 4,
 "nbformat_minor": 4
}
